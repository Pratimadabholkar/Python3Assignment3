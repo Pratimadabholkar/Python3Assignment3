{
 "cells": [
  {
   "cell_type": "code",
   "execution_count": 22,
   "metadata": {},
   "outputs": [
    {
     "name": "stdout",
     "output_type": "stream",
     "text": [
      "Original List:  [1, 3, 5, 6, 2, 8]\n",
      "Reduce List with Sum:  [25]\n",
      "Reduce List with Max:  [8]\n"
     ]
    }
   ],
   "source": [
    "# Write a Python Program to implement your own myreduce() function which works exactly\n",
    "# like Python's built-in function reduce()\n",
    "# Sum of list and maximum element of list\n",
    "\n",
    "sum=0\n",
    "list = [ 1, 3, 5, 6, 2,8]\n",
    "print(\"Original List: \",(list))\n",
    "for i in (list):\n",
    "    sum = sum + i\n",
    "list_reduce=[sum]\n",
    "print(\"Reduce List with Sum: \",(list_reduce))\n",
    "\n",
    "max=0\n",
    "for i in (list):\n",
    "    if(i > max):\n",
    "        max = i\n",
    "list_reduce=[max]\n",
    "print(\"Reduce List with Max: \",(list_reduce))"
   ]
  },
  {
   "cell_type": "code",
   "execution_count": 41,
   "metadata": {},
   "outputs": [
    {
     "name": "stdout",
     "output_type": "stream",
     "text": [
      "Original List:  [1, 2, 3, 23, 22, 45, 78, 100, 4]\n",
      "Filter Even Number List:  [2, 22, 78, 100, 4]\n",
      "Original List:  ['a', 'e', 'b', 'c', 'i', 'o', 'u', 'p', 'x']\n",
      "Filter Vowel List:  ['a', 'e', 'i', 'o', 'u']\n"
     ]
    }
   ],
   "source": [
    "# Write a Python program to implement your own myfilter() function which works exactly like\n",
    "#Python's built-in function filter()\n",
    "# Filter Even Numbers\n",
    "numbers = [1, 2, 3, 23, 22, 45, 78, 100, 4]\n",
    "num=0\n",
    "even_list=[]\n",
    "print(\"Original List: \", (numbers))\n",
    "for num in (numbers):\n",
    "    if(num%2==0):\n",
    "        even_list+=[num]\n",
    "print(\"Filter Even Number List: \", (even_list))\n",
    "\n",
    "# Filter Vowels\n",
    "alpha = [\"a\", \"e\", \"b\", \"c\", \"i\", \"o\", \"u\", \"p\", \"x\"]\n",
    "char=\"\"\n",
    "vowel_list=[]\n",
    "print(\"Original List: \", (alpha))\n",
    "for char in (alpha):\n",
    "    if(char in (\"a\",\"e\",\"i\",\"o\",\"u\")):\n",
    "        vowel_list+=[char]\n",
    "print(\"Filter Vowel List: \", (vowel_list))"
   ]
  },
  {
   "cell_type": "code",
   "execution_count": 21,
   "metadata": {},
   "outputs": [
    {
     "name": "stdout",
     "output_type": "stream",
     "text": [
      "['A', 'C', 'A', 'D', 'G', 'I', 'L', 'D']\n",
      "['x', 'xx', 'xxx', 'y', 'yy', 'yyy', 'z', 'zz', 'zzz']\n",
      "['x', 'y', 'z', 'xx', 'yy', 'zz', 'xxx', 'yyy', 'zzz', 'xxxx', 'yyyy', 'zzzz']\n",
      "[[2], [3], [4], [3], [4], [5], [4], [5], [6]]\n",
      "[[2, 3, 4, 5], [3, 4, 5, 6], [4, 5, 6, 7], [5, 6, 7, 8]]\n"
     ]
    }
   ],
   "source": [
    "# Implement List comprehensions to produce the following lists.\n",
    "#Write List comprehensions to produce the following Lists\n",
    "#['A', 'C', 'A', 'D', 'G', 'I', ’L’, ‘ D’]\n",
    "\n",
    "insert_list = []\n",
    "for char in 'ACADGILD':\n",
    "    insert_list.append(char)\n",
    "print(insert_list)\n",
    "\n",
    "# ['x', 'xx', 'xxx', 'xxxx', 'y', 'yy', 'yyy', 'yyyy', 'z', 'zz', 'zzz', 'zzzz']\n",
    "\n",
    "list=[\"x\", \"y\", \"z\"]\n",
    "clist=[]\n",
    "for i in (list):\n",
    "    val=1\n",
    "    for val in range(1,4):\n",
    "        clist += [i*val]\n",
    "print(clist)\n",
    "\n",
    "# ['x', 'y', 'z', 'xx', 'yy', 'zz', 'xxx', 'yyy', 'zzz', 'xxxx', 'yyyy', 'zzzz']\n",
    "\n",
    "list=[\"x\", \"y\", \"z\"]\n",
    "clist=[]\n",
    "for i in range(1,5):\n",
    "    for val in (list):\n",
    "        clist += [i*val]\n",
    "print(clist)\n",
    "\n",
    "# [[2], [3], [4], [3], [4], [5], [4], [5], [6]]\n",
    "\n",
    "list = [[x+y] for x in range(2,5) for y in range(3)]\n",
    "print(list)\n",
    "\n",
    "#[[2, 3, 4, 5], [3, 4, 5, 6], [4, 5, 6, 7], [5, 6, 7, 8]]\n",
    "\n",
    "list = [[x+y for x in range(2,6)] for y in range(4)]\n",
    "print(list)\n",
    "    "
   ]
  },
  {
   "cell_type": "code",
   "execution_count": 189,
   "metadata": {},
   "outputs": [
    {
     "name": "stdout",
     "output_type": "stream",
     "text": [
      "Please enter a few words: pratima hari narayan mukhopadhyaya nair vaishya\n",
      "Longest word:  mukhopadhyaya of size:  13\n"
     ]
    }
   ],
   "source": [
    "word_list=[]\n",
    "def find_longest_word(word_list):  \n",
    "    longest_word = ''  \n",
    "    longest_size = 0 \n",
    "    for word in word_list:    \n",
    "        if(len(word) > longest_size):\n",
    "            longest_word = word\n",
    "            longest_size = len(word)      \n",
    "    print(\"Longest word: \",longest_word, \"of size: \", longest_size) \n",
    "\n",
    "words = input('Please enter a few words: ')  \n",
    "word_list = words.split()  \n",
    "find_longest_word(word_list) "
   ]
  },
  {
   "cell_type": "code",
   "execution_count": 63,
   "metadata": {},
   "outputs": [
    {
     "name": "stdout",
     "output_type": "stream",
     "text": [
      "[([0], 0), ([0, 1], 0), ([0, 1, 2], 0), ([0], 1), ([0, 1], 1), ([0, 1, 2], 1), ([0], 2), ([0, 1], 2), ([0, 1, 2], 2)]\n"
     ]
    }
   ],
   "source": [
    "List_of_list =[([z for z in range(x-2,x+1) if z >= 0],y) for y in range(3) for x in range(3)]\n",
    "print(List_of_list)"
   ]
  }
 ],
 "metadata": {
  "kernelspec": {
   "display_name": "Python 3",
   "language": "python",
   "name": "python3"
  },
  "language_info": {
   "codemirror_mode": {
    "name": "ipython",
    "version": 3
   },
   "file_extension": ".py",
   "mimetype": "text/x-python",
   "name": "python",
   "nbconvert_exporter": "python",
   "pygments_lexer": "ipython3",
   "version": "3.6.5"
  }
 },
 "nbformat": 4,
 "nbformat_minor": 2
}
